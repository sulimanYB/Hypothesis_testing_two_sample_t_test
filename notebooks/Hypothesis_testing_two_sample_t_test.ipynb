{
 "cells": [
  {
   "cell_type": "code",
   "execution_count": 1,
   "metadata": {},
   "outputs": [],
   "source": [
    "import pandas as pd\n",
    "import numpy as np\n",
    "from scipy.stats import norm, t\n",
    "import matplotlib.pyplot as plt\n",
    "import pingouin"
   ]
  },
  {
   "cell_type": "markdown",
   "metadata": {},
   "source": [
    "### Hypotheses\n",
    "Are users who first programmed as a child compensated higher than those that started as adults?\n",
    "\n",
    "\n",
    "- H0: The mean compensation (in USD) is the same for those that coded first as a child and those that coded first as an adult.\n",
    "\n",
    "    H0: mu_child = mu_adult (OR mu_child - mu_adult = 0)\n",
    "\n",
    "- HA: The mean compensation (in USD) is greater for those that coded first as a child and those that coded first as an adult. \n",
    "\n",
    "    HA: mu_child > mu_adult (OR mu_child - mu_adult > 0)\n",
    "\n",
    "Alpha = 0.1"
   ]
  },
  {
   "cell_type": "markdown",
   "metadata": {},
   "source": [
    "### Read data"
   ]
  },
  {
   "cell_type": "code",
   "execution_count": 2,
   "metadata": {},
   "outputs": [],
   "source": [
    "df = pd.read_feather(r\"..\\data\\stack_overflow.feather\")  "
   ]
  },
  {
   "cell_type": "code",
   "execution_count": 3,
   "metadata": {},
   "outputs": [
    {
     "data": {
      "text/html": [
       "<div>\n",
       "<style scoped>\n",
       "    .dataframe tbody tr th:only-of-type {\n",
       "        vertical-align: middle;\n",
       "    }\n",
       "\n",
       "    .dataframe tbody tr th {\n",
       "        vertical-align: top;\n",
       "    }\n",
       "\n",
       "    .dataframe thead th {\n",
       "        text-align: right;\n",
       "    }\n",
       "</style>\n",
       "<table border=\"1\" class=\"dataframe\">\n",
       "  <thead>\n",
       "    <tr style=\"text-align: right;\">\n",
       "      <th></th>\n",
       "      <th>respondent</th>\n",
       "      <th>main_branch</th>\n",
       "      <th>hobbyist</th>\n",
       "      <th>age</th>\n",
       "      <th>age_1st_code</th>\n",
       "      <th>age_first_code_cut</th>\n",
       "      <th>comp_freq</th>\n",
       "      <th>comp_total</th>\n",
       "      <th>converted_comp</th>\n",
       "      <th>country</th>\n",
       "      <th>...</th>\n",
       "      <th>survey_length</th>\n",
       "      <th>trans</th>\n",
       "      <th>undergrad_major</th>\n",
       "      <th>webframe_desire_next_year</th>\n",
       "      <th>webframe_worked_with</th>\n",
       "      <th>welcome_change</th>\n",
       "      <th>work_week_hrs</th>\n",
       "      <th>years_code</th>\n",
       "      <th>years_code_pro</th>\n",
       "      <th>age_cat</th>\n",
       "    </tr>\n",
       "  </thead>\n",
       "  <tbody>\n",
       "    <tr>\n",
       "      <th>0</th>\n",
       "      <td>36.0</td>\n",
       "      <td>I am not primarily a developer, but I write co...</td>\n",
       "      <td>Yes</td>\n",
       "      <td>34.0</td>\n",
       "      <td>30.0</td>\n",
       "      <td>adult</td>\n",
       "      <td>Yearly</td>\n",
       "      <td>60000.0</td>\n",
       "      <td>77556.0</td>\n",
       "      <td>United Kingdom</td>\n",
       "      <td>...</td>\n",
       "      <td>Appropriate in length</td>\n",
       "      <td>No</td>\n",
       "      <td>Computer science, computer engineering, or sof...</td>\n",
       "      <td>Express;React.js</td>\n",
       "      <td>Express;React.js</td>\n",
       "      <td>Just as welcome now as I felt last year</td>\n",
       "      <td>40.0</td>\n",
       "      <td>4.0</td>\n",
       "      <td>3.0</td>\n",
       "      <td>At least 30</td>\n",
       "    </tr>\n",
       "    <tr>\n",
       "      <th>1</th>\n",
       "      <td>47.0</td>\n",
       "      <td>I am a developer by profession</td>\n",
       "      <td>Yes</td>\n",
       "      <td>53.0</td>\n",
       "      <td>10.0</td>\n",
       "      <td>child</td>\n",
       "      <td>Yearly</td>\n",
       "      <td>58000.0</td>\n",
       "      <td>74970.0</td>\n",
       "      <td>United Kingdom</td>\n",
       "      <td>...</td>\n",
       "      <td>Appropriate in length</td>\n",
       "      <td>No</td>\n",
       "      <td>A natural science (such as biology, chemistry,...</td>\n",
       "      <td>Flask;Spring</td>\n",
       "      <td>Flask;Spring</td>\n",
       "      <td>Just as welcome now as I felt last year</td>\n",
       "      <td>40.0</td>\n",
       "      <td>43.0</td>\n",
       "      <td>28.0</td>\n",
       "      <td>At least 30</td>\n",
       "    </tr>\n",
       "    <tr>\n",
       "      <th>2</th>\n",
       "      <td>69.0</td>\n",
       "      <td>I am a developer by profession</td>\n",
       "      <td>Yes</td>\n",
       "      <td>25.0</td>\n",
       "      <td>12.0</td>\n",
       "      <td>child</td>\n",
       "      <td>Yearly</td>\n",
       "      <td>550000.0</td>\n",
       "      <td>594539.0</td>\n",
       "      <td>France</td>\n",
       "      <td>...</td>\n",
       "      <td>Too short</td>\n",
       "      <td>No</td>\n",
       "      <td>Computer science, computer engineering, or sof...</td>\n",
       "      <td>Django;Flask</td>\n",
       "      <td>Django;Flask</td>\n",
       "      <td>Just as welcome now as I felt last year</td>\n",
       "      <td>40.0</td>\n",
       "      <td>13.0</td>\n",
       "      <td>3.0</td>\n",
       "      <td>Under 30</td>\n",
       "    </tr>\n",
       "  </tbody>\n",
       "</table>\n",
       "<p>3 rows × 63 columns</p>\n",
       "</div>"
      ],
      "text/plain": [
       "   respondent                                        main_branch hobbyist  \\\n",
       "0        36.0  I am not primarily a developer, but I write co...      Yes   \n",
       "1        47.0                     I am a developer by profession      Yes   \n",
       "2        69.0                     I am a developer by profession      Yes   \n",
       "\n",
       "    age  age_1st_code age_first_code_cut comp_freq  comp_total  \\\n",
       "0  34.0          30.0              adult    Yearly     60000.0   \n",
       "1  53.0          10.0              child    Yearly     58000.0   \n",
       "2  25.0          12.0              child    Yearly    550000.0   \n",
       "\n",
       "   converted_comp         country  ...          survey_length trans  \\\n",
       "0         77556.0  United Kingdom  ...  Appropriate in length    No   \n",
       "1         74970.0  United Kingdom  ...  Appropriate in length    No   \n",
       "2        594539.0          France  ...              Too short    No   \n",
       "\n",
       "                                     undergrad_major  \\\n",
       "0  Computer science, computer engineering, or sof...   \n",
       "1  A natural science (such as biology, chemistry,...   \n",
       "2  Computer science, computer engineering, or sof...   \n",
       "\n",
       "  webframe_desire_next_year webframe_worked_with  \\\n",
       "0          Express;React.js     Express;React.js   \n",
       "1              Flask;Spring         Flask;Spring   \n",
       "2              Django;Flask         Django;Flask   \n",
       "\n",
       "                            welcome_change work_week_hrs years_code  \\\n",
       "0  Just as welcome now as I felt last year          40.0        4.0   \n",
       "1  Just as welcome now as I felt last year          40.0       43.0   \n",
       "2  Just as welcome now as I felt last year          40.0       13.0   \n",
       "\n",
       "  years_code_pro      age_cat  \n",
       "0            3.0  At least 30  \n",
       "1           28.0  At least 30  \n",
       "2            3.0     Under 30  \n",
       "\n",
       "[3 rows x 63 columns]"
      ]
     },
     "execution_count": 3,
     "metadata": {},
     "output_type": "execute_result"
    }
   ],
   "source": [
    "df.head(3)"
   ]
  },
  {
   "cell_type": "code",
   "execution_count": 4,
   "metadata": {},
   "outputs": [],
   "source": [
    "alpha = 0.1"
   ]
  },
  {
   "cell_type": "code",
   "execution_count": 5,
   "metadata": {},
   "outputs": [
    {
     "data": {
      "text/plain": [
       "age_first_code_cut\n",
       "adult    111313.311047\n",
       "child    132419.570621\n",
       "Name: converted_comp, dtype: float64"
      ]
     },
     "execution_count": 5,
     "metadata": {},
     "output_type": "execute_result"
    }
   ],
   "source": [
    "# Calculating groupwise summary statistics\n",
    "df.groupby(\"age_first_code_cut\")[\"converted_comp\"].mean()"
   ]
  },
  {
   "cell_type": "markdown",
   "metadata": {},
   "source": [
    "<img src=\"..\\data\\standardising_test_statistic.jpg\" width=\"500\" height=\"600\">"
   ]
  },
  {
   "cell_type": "code",
   "execution_count": 6,
   "metadata": {},
   "outputs": [
    {
     "name": "stdout",
     "output_type": "stream",
     "text": [
      "The t_stat is:1.8699313316221844\n"
     ]
    }
   ],
   "source": [
    "xbar = df.groupby(\"age_first_code_cut\")[\"converted_comp\"].mean()\n",
    "s = df.groupby(\"age_first_code_cut\")[\"converted_comp\"].std()\n",
    "n = df.groupby(\"age_first_code_cut\")[\"converted_comp\"].count()\n",
    "numerator = xbar['child'] - xbar['adult']\n",
    "denominator = np.sqrt(s[\"child\"] **2 / n[\"child\"] + s[\"adult\"] ** 2 / n[\"adult\"])\n",
    "t_stat = numerator / denominator\n",
    "print(\"The t_stat is:{}\".format(t_stat))"
   ]
  },
  {
   "cell_type": "code",
   "execution_count": 7,
   "metadata": {},
   "outputs": [
    {
     "name": "stdout",
     "output_type": "stream",
     "text": [
      "The p-value is:0.03\n",
      "Reject H0 in favour of HA\n"
     ]
    }
   ],
   "source": [
    "# Calculate the degrees of freedom\n",
    "degrees_of_freedom = n[\"child\"] + n[\"adult\"] - 2  # minus two means\n",
    "\n",
    "# Calculate the p-value from the test stat. Right-tailled test.\n",
    "p_value = 1 - t.cdf(t_stat, df=degrees_of_freedom) # Use t-distribution CDF not normal CDF\n",
    "\n",
    "# Print the p-value\n",
    "print(\"The p-value is:{:.2f}\".format(p_value))\n",
    "\n",
    "if p_value <= alpha:\n",
    "    print(\"Reject H0 in favour of HA\")\n",
    "else:\n",
    "    print(\"Failed to reject H0\")"
   ]
  },
  {
   "cell_type": "markdown",
   "metadata": {},
   "source": [
    "### Using pingoin"
   ]
  },
  {
   "cell_type": "code",
   "execution_count": 8,
   "metadata": {},
   "outputs": [],
   "source": [
    "# Calculate the p-value from the test stat. Right-tailled test.\n",
    "# Unpaired test on the same data\n",
    "stats_df = pingouin.ttest(x=df[df[\"age_first_code_cut\"]==\"child\"][\"converted_comp\"],\n",
    "                          y=df[df[\"age_first_code_cut\"]==\"adult\"][\"converted_comp\"],\n",
    "                          alternative=\"greater\")"
   ]
  },
  {
   "cell_type": "code",
   "execution_count": 9,
   "metadata": {},
   "outputs": [
    {
     "name": "stdout",
     "output_type": "stream",
     "text": [
      "The p-value is:0.03\n",
      "Reject H0 in favour of HA\n"
     ]
    }
   ],
   "source": [
    "p_val = stats_df[\"p-val\"]\n",
    "\n",
    "# Print the p-value\n",
    "print(\"The p-value is:{:.2f}\".format(p_value))\n",
    "\n",
    "if p_value <= alpha:\n",
    "    print(\"Reject H0 in favour of HA\")\n",
    "else:\n",
    "    print(\"Failed to reject H0\")"
   ]
  }
 ],
 "metadata": {
  "kernelspec": {
   "display_name": "base",
   "language": "python",
   "name": "python3"
  },
  "language_info": {
   "codemirror_mode": {
    "name": "ipython",
    "version": 3
   },
   "file_extension": ".py",
   "mimetype": "text/x-python",
   "name": "python",
   "nbconvert_exporter": "python",
   "pygments_lexer": "ipython3",
   "version": "3.11.3"
  }
 },
 "nbformat": 4,
 "nbformat_minor": 2
}
